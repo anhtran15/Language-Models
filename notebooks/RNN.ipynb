{
  "nbformat": 4,
  "nbformat_minor": 0,
  "metadata": {
    "colab": {
      "name": "text-generation-RNN.ipynb",
      "provenance": [],
      "collapsed_sections": [],
      "include_colab_link": true
    },
    "kernelspec": {
      "name": "python3",
      "display_name": "Python 3"
    }
  },
  "cells": [
    {
      "cell_type": "markdown",
      "metadata": {
        "id": "view-in-github",
        "colab_type": "text"
      },
      "source": [
        "<a href=\"https://colab.research.google.com/github/AVL1/TextGeneration/blob/main/text_generation_RNN.ipynb\" target=\"_parent\"><img src=\"https://colab.research.google.com/assets/colab-badge.svg\" alt=\"Open In Colab\"/></a>"
      ]
    },
    {
      "cell_type": "code",
      "metadata": {
        "colab": {
          "base_uri": "https://localhost:8080/"
        },
        "id": "Ec8fhIk9rFmq",
        "outputId": "86dd4f03-1c56-4996-b756-d6a3eac214b0"
      },
      "source": [
        "from google.colab import drive\r\n",
        "drive.mount('/content/drive')"
      ],
      "execution_count": null,
      "outputs": [
        {
          "output_type": "stream",
          "text": [
            "Mounted at /content/drive\n"
          ],
          "name": "stdout"
        }
      ]
    },
    {
      "cell_type": "code",
      "metadata": {
        "id": "S5FI3xa-rhsE"
      },
      "source": [
        "import numpy as np\r\n",
        "import pandas as pd"
      ],
      "execution_count": null,
      "outputs": []
    },
    {
      "cell_type": "code",
      "metadata": {
        "id": "1bZ0Ttrb6pVA"
      },
      "source": [
        "path = '/content/drive/MyDrive/HocKy5/NLP/Final/Data'\r\n",
        "import os\r\n",
        "for filename in os.listdir(path):\r\n",
        "  print(os.path.join(path, filename))"
      ],
      "execution_count": null,
      "outputs": []
    },
    {
      "cell_type": "code",
      "metadata": {
        "colab": {
          "base_uri": "https://localhost:8080/",
          "height": 635
        },
        "id": "0BLfCesI60Fw",
        "outputId": "bfdbff6d-7e37-4344-9f29-2958d6b38531"
      },
      "source": [
        "Comments_df = pd.read_csv('/content/drive/MyDrive/HocKy5/NLP/Final/Data/ArticlesApril2018.csv')\r\n",
        "Comments_df.head()"
      ],
      "execution_count": null,
      "outputs": [
        {
          "output_type": "execute_result",
          "data": {
            "text/html": [
              "<div>\n",
              "<style scoped>\n",
              "    .dataframe tbody tr th:only-of-type {\n",
              "        vertical-align: middle;\n",
              "    }\n",
              "\n",
              "    .dataframe tbody tr th {\n",
              "        vertical-align: top;\n",
              "    }\n",
              "\n",
              "    .dataframe thead th {\n",
              "        text-align: right;\n",
              "    }\n",
              "</style>\n",
              "<table border=\"1\" class=\"dataframe\">\n",
              "  <thead>\n",
              "    <tr style=\"text-align: right;\">\n",
              "      <th></th>\n",
              "      <th>articleID</th>\n",
              "      <th>articleWordCount</th>\n",
              "      <th>byline</th>\n",
              "      <th>documentType</th>\n",
              "      <th>headline</th>\n",
              "      <th>keywords</th>\n",
              "      <th>multimedia</th>\n",
              "      <th>newDesk</th>\n",
              "      <th>printPage</th>\n",
              "      <th>pubDate</th>\n",
              "      <th>sectionName</th>\n",
              "      <th>snippet</th>\n",
              "      <th>source</th>\n",
              "      <th>typeOfMaterial</th>\n",
              "      <th>webURL</th>\n",
              "    </tr>\n",
              "  </thead>\n",
              "  <tbody>\n",
              "    <tr>\n",
              "      <th>0</th>\n",
              "      <td>5adf6684068401528a2aa69b</td>\n",
              "      <td>781</td>\n",
              "      <td>By JOHN BRANCH</td>\n",
              "      <td>article</td>\n",
              "      <td>Former N.F.L. Cheerleaders’ Settlement Offer: ...</td>\n",
              "      <td>['Workplace Hazards and Violations', 'Football...</td>\n",
              "      <td>68</td>\n",
              "      <td>Sports</td>\n",
              "      <td>0</td>\n",
              "      <td>2018-04-24 17:16:49</td>\n",
              "      <td>Pro Football</td>\n",
              "      <td>“I understand that they could meet with us, pa...</td>\n",
              "      <td>The New York Times</td>\n",
              "      <td>News</td>\n",
              "      <td>https://www.nytimes.com/2018/04/24/sports/foot...</td>\n",
              "    </tr>\n",
              "    <tr>\n",
              "      <th>1</th>\n",
              "      <td>5adf653f068401528a2aa697</td>\n",
              "      <td>656</td>\n",
              "      <td>By LISA FRIEDMAN</td>\n",
              "      <td>article</td>\n",
              "      <td>E.P.A. to Unveil a New Rule. Its Effect: Less ...</td>\n",
              "      <td>['Environmental Protection Agency', 'Pruitt, S...</td>\n",
              "      <td>68</td>\n",
              "      <td>Climate</td>\n",
              "      <td>0</td>\n",
              "      <td>2018-04-24 17:11:21</td>\n",
              "      <td>Unknown</td>\n",
              "      <td>The agency plans to publish a new regulation T...</td>\n",
              "      <td>The New York Times</td>\n",
              "      <td>News</td>\n",
              "      <td>https://www.nytimes.com/2018/04/24/climate/epa...</td>\n",
              "    </tr>\n",
              "    <tr>\n",
              "      <th>2</th>\n",
              "      <td>5adf4626068401528a2aa628</td>\n",
              "      <td>2427</td>\n",
              "      <td>By PETE WELLS</td>\n",
              "      <td>article</td>\n",
              "      <td>The New Noma, Explained</td>\n",
              "      <td>['Restaurants', 'Noma (Copenhagen, Restaurant)...</td>\n",
              "      <td>66</td>\n",
              "      <td>Dining</td>\n",
              "      <td>0</td>\n",
              "      <td>2018-04-24 14:58:44</td>\n",
              "      <td>Unknown</td>\n",
              "      <td>What’s it like to eat at the second incarnatio...</td>\n",
              "      <td>The New York Times</td>\n",
              "      <td>News</td>\n",
              "      <td>https://www.nytimes.com/2018/04/24/dining/noma...</td>\n",
              "    </tr>\n",
              "    <tr>\n",
              "      <th>3</th>\n",
              "      <td>5adf40d2068401528a2aa619</td>\n",
              "      <td>626</td>\n",
              "      <td>By JULIE HIRSCHFELD DAVIS and PETER BAKER</td>\n",
              "      <td>article</td>\n",
              "      <td>Unknown</td>\n",
              "      <td>['Macron, Emmanuel (1977- )', 'Trump, Donald J...</td>\n",
              "      <td>68</td>\n",
              "      <td>Washington</td>\n",
              "      <td>0</td>\n",
              "      <td>2018-04-24 14:35:57</td>\n",
              "      <td>Europe</td>\n",
              "      <td>President Trump welcomed President Emmanuel Ma...</td>\n",
              "      <td>The New York Times</td>\n",
              "      <td>News</td>\n",
              "      <td>https://www.nytimes.com/2018/04/24/world/europ...</td>\n",
              "    </tr>\n",
              "    <tr>\n",
              "      <th>4</th>\n",
              "      <td>5adf3d64068401528a2aa60f</td>\n",
              "      <td>815</td>\n",
              "      <td>By IAN AUSTEN and DAN BILEFSKY</td>\n",
              "      <td>article</td>\n",
              "      <td>Unknown</td>\n",
              "      <td>['Toronto, Ontario, Attack (April, 2018)', 'Mu...</td>\n",
              "      <td>68</td>\n",
              "      <td>Foreign</td>\n",
              "      <td>0</td>\n",
              "      <td>2018-04-24 14:21:21</td>\n",
              "      <td>Canada</td>\n",
              "      <td>Alek Minassian, 25, a resident of Toronto’s Ri...</td>\n",
              "      <td>The New York Times</td>\n",
              "      <td>News</td>\n",
              "      <td>https://www.nytimes.com/2018/04/24/world/canad...</td>\n",
              "    </tr>\n",
              "  </tbody>\n",
              "</table>\n",
              "</div>"
            ],
            "text/plain": [
              "                  articleID  ...                                             webURL\n",
              "0  5adf6684068401528a2aa69b  ...  https://www.nytimes.com/2018/04/24/sports/foot...\n",
              "1  5adf653f068401528a2aa697  ...  https://www.nytimes.com/2018/04/24/climate/epa...\n",
              "2  5adf4626068401528a2aa628  ...  https://www.nytimes.com/2018/04/24/dining/noma...\n",
              "3  5adf40d2068401528a2aa619  ...  https://www.nytimes.com/2018/04/24/world/europ...\n",
              "4  5adf3d64068401528a2aa60f  ...  https://www.nytimes.com/2018/04/24/world/canad...\n",
              "\n",
              "[5 rows x 15 columns]"
            ]
          },
          "metadata": {
            "tags": []
          },
          "execution_count": 3
        }
      ]
    },
    {
      "cell_type": "code",
      "metadata": {
        "id": "WfOeM6Ve8gIP",
        "colab": {
          "base_uri": "https://localhost:8080/"
        },
        "outputId": "e234c9c7-9628-4a0e-b907-a63355fb328d"
      },
      "source": [
        "hdline = []\r\n",
        "hdline.extend(Comments_df.headline)\r\n",
        "hdline = [h for h in hdline if h not in \"Unknown\"]\r\n",
        "print(hdline[0])\r\n",
        "print(len(hdline))\r\n"
      ],
      "execution_count": null,
      "outputs": [
        {
          "output_type": "stream",
          "text": [
            "Former N.F.L. Cheerleaders’ Settlement Offer: $1 and a Meeting With Goodell\n",
            "1214\n"
          ],
          "name": "stdout"
        }
      ]
    },
    {
      "cell_type": "code",
      "metadata": {
        "id": "Kl_10Fnk-r2I"
      },
      "source": [
        "import string\r\n",
        "def clean(text):\r\n",
        "    token = \"\".join(t for t in text if t not in string.punctuation).lower()\r\n",
        "    return token"
      ],
      "execution_count": null,
      "outputs": []
    },
    {
      "cell_type": "code",
      "metadata": {
        "id": "wzn-OAvS-06i"
      },
      "source": [
        "df = [clean(x) for x in hdline]"
      ],
      "execution_count": null,
      "outputs": []
    },
    {
      "cell_type": "code",
      "metadata": {
        "id": "I4FUZqEa_Ji0"
      },
      "source": [
        "# Generating Sequence of N-gram Tokens\r\n",
        "from tensorflow.keras.preprocessing.text import Tokenizer\r\n",
        "tokenizer = Tokenizer()\r\n",
        "def get_seq(df):\r\n",
        "    # Tokenization \r\n",
        "    tokenizer.fit_on_texts(df)\r\n",
        "    tot_words = len(tokenizer.index_word) +1\r\n",
        "    \r\n",
        "    # Convert Data to sequence\r\n",
        "    input_seq = []\r\n",
        "    for line in df:\r\n",
        "        token_list = tokenizer.texts_to_sequences([line])[0]\r\n",
        "        for i in range(1, len(token_list)):\r\n",
        "            n_gram = token_list[:i+1]\r\n",
        "            input_seq.append(n_gram)\r\n",
        "    return input_seq, tot_words"
      ],
      "execution_count": null,
      "outputs": []
    },
    {
      "cell_type": "code",
      "metadata": {
        "colab": {
          "base_uri": "https://localhost:8080/"
        },
        "id": "Bg5H1-oT_MGC",
        "outputId": "286eecea-0c01-45c3-cc8a-5f14876a3d7e"
      },
      "source": [
        "input_seq, tot_words = get_seq(df)\r\n",
        "input_seq[:10]"
      ],
      "execution_count": null,
      "outputs": [
        {
          "output_type": "execute_result",
          "data": {
            "text/plain": [
              "[[95, 263],\n",
              " [95, 263, 1100],\n",
              " [95, 263, 1100, 1101],\n",
              " [95, 263, 1100, 1101, 572],\n",
              " [95, 263, 1100, 1101, 572, 50],\n",
              " [95, 263, 1100, 1101, 572, 50, 7],\n",
              " [95, 263, 1100, 1101, 572, 50, 7, 2],\n",
              " [95, 263, 1100, 1101, 572, 50, 7, 2, 365],\n",
              " [95, 263, 1100, 1101, 572, 50, 7, 2, 365, 10],\n",
              " [95, 263, 1100, 1101, 572, 50, 7, 2, 365, 10, 1102]]"
            ]
          },
          "metadata": {
            "tags": []
          },
          "execution_count": 8
        }
      ]
    },
    {
      "cell_type": "code",
      "metadata": {
        "id": "6Nfe4Anr_OQe"
      },
      "source": [
        "from keras.preprocessing.sequence import pad_sequences\r\n",
        "import keras.utils as ku \r\n",
        "def pad_seq(input_seq):\r\n",
        "    max_seq_len = max([len(x) for x in input_seq])\r\n",
        "    input_sequences = np.array(pad_sequences(input_seq, maxlen=max_seq_len, padding='pre'))\r\n",
        "    x, y = input_sequences[:, :-1], input_sequences[:, -1]\r\n",
        "    y = ku.to_categorical(y, num_classes=tot_words)\r\n",
        "    return x,y,max_seq_len\r\n",
        "\r\n",
        "x, y, max_seq_len = pad_seq(input_seq)"
      ],
      "execution_count": null,
      "outputs": []
    },
    {
      "cell_type": "code",
      "metadata": {
        "id": "Q8ONDSc4_RCv",
        "colab": {
          "base_uri": "https://localhost:8080/"
        },
        "outputId": "7c5dc66f-39f4-4898-bd95-fd96b52e2809"
      },
      "source": [
        "from keras.layers import Embedding, LSTM, Dense, Dropout\r\n",
        "from keras.callbacks import EarlyStopping\r\n",
        "from keras.models import Sequential\r\n",
        "def create_model(max_seq_len, tot_words):\r\n",
        "    inp_length = max_seq_len - 1\r\n",
        "    model = Sequential()\r\n",
        "    model.add(Embedding(tot_words, 10, input_length=inp_length))\r\n",
        "    model.add(LSTM(100))\r\n",
        "    model.add(Dropout(0.1))\r\n",
        "    model.add(Dense(tot_words, activation='softmax'))\r\n",
        "\r\n",
        "    model.compile(loss='categorical_crossentropy', optimizer='adam')\r\n",
        "    \r\n",
        "    return model\r\n",
        "\r\n",
        "model = create_model(max_seq_len, tot_words)\r\n",
        "model.summary()"
      ],
      "execution_count": null,
      "outputs": [
        {
          "output_type": "stream",
          "text": [
            "Model: \"sequential\"\n",
            "_________________________________________________________________\n",
            "Layer (type)                 Output Shape              Param #   \n",
            "=================================================================\n",
            "embedding (Embedding)        (None, 23, 10)            36200     \n",
            "_________________________________________________________________\n",
            "lstm (LSTM)                  (None, 100)               44400     \n",
            "_________________________________________________________________\n",
            "dropout (Dropout)            (None, 100)               0         \n",
            "_________________________________________________________________\n",
            "dense (Dense)                (None, 3620)              365620    \n",
            "=================================================================\n",
            "Total params: 446,220\n",
            "Trainable params: 446,220\n",
            "Non-trainable params: 0\n",
            "_________________________________________________________________\n"
          ],
          "name": "stdout"
        }
      ]
    },
    {
      "cell_type": "markdown",
      "metadata": {
        "id": "YWXGGD7BRqOK"
      },
      "source": [
        "Xây dựng mô hình với 1 layers của LSTM\r\n",
        "\r\n",
        "Sử dụng Embedding Layer là Layer đầu tiên của Model để tạo Word Embedding."
      ]
    },
    {
      "cell_type": "code",
      "metadata": {
        "id": "zoO1WVb6_TMR",
        "colab": {
          "base_uri": "https://localhost:8080/"
        },
        "outputId": "3e69148a-6378-4520-9466-2335c5254f8f"
      },
      "source": [
        "model.fit(x, y, epochs=100, verbose=5)"
      ],
      "execution_count": null,
      "outputs": [
        {
          "output_type": "stream",
          "text": [
            "Epoch 1/100\n",
            "Epoch 2/100\n",
            "Epoch 3/100\n",
            "Epoch 4/100\n",
            "Epoch 5/100\n",
            "Epoch 6/100\n",
            "Epoch 7/100\n",
            "Epoch 8/100\n",
            "Epoch 9/100\n",
            "Epoch 10/100\n",
            "Epoch 11/100\n",
            "Epoch 12/100\n",
            "Epoch 13/100\n",
            "Epoch 14/100\n",
            "Epoch 15/100\n",
            "Epoch 16/100\n",
            "Epoch 17/100\n",
            "Epoch 18/100\n",
            "Epoch 19/100\n",
            "Epoch 20/100\n",
            "Epoch 22/100\n",
            "Epoch 23/100\n",
            "Epoch 24/100\n",
            "Epoch 25/100\n",
            "Epoch 26/100\n",
            "Epoch 27/100\n",
            "Epoch 28/100\n",
            "Epoch 29/100\n",
            "Epoch 30/100\n",
            "Epoch 31/100\n",
            "Epoch 32/100\n",
            "Epoch 33/100\n",
            "Epoch 34/100\n",
            "Epoch 35/100\n",
            "Epoch 36/100\n",
            "Epoch 37/100\n",
            "Epoch 38/100\n",
            "Epoch 39/100\n",
            "Epoch 40/100\n",
            "Epoch 41/100\n",
            "Epoch 42/100\n",
            "Epoch 43/100\n",
            "Epoch 44/100\n",
            "Epoch 45/100\n",
            "Epoch 46/100\n",
            "Epoch 47/100\n",
            "Epoch 48/100\n",
            "Epoch 49/100\n",
            "Epoch 50/100\n",
            "Epoch 51/100\n",
            "Epoch 52/100\n",
            "Epoch 53/100\n",
            "Epoch 55/100\n",
            "Epoch 56/100\n",
            "Epoch 57/100\n",
            "Epoch 58/100\n",
            "Epoch 59/100\n",
            "Epoch 60/100\n",
            "Epoch 61/100\n",
            "Epoch 62/100\n",
            "Epoch 63/100\n",
            "Epoch 64/100\n",
            "Epoch 65/100\n",
            "Epoch 66/100\n",
            "Epoch 67/100\n",
            "Epoch 68/100\n",
            "Epoch 69/100\n",
            "Epoch 70/100\n",
            "Epoch 71/100\n",
            "Epoch 72/100\n",
            "Epoch 73/100\n",
            "Epoch 74/100\n",
            "Epoch 75/100\n",
            "Epoch 76/100\n",
            "Epoch 77/100\n",
            "Epoch 78/100\n",
            "Epoch 79/100\n",
            "Epoch 80/100\n",
            "Epoch 81/100\n",
            "Epoch 82/100\n",
            "Epoch 83/100\n",
            "Epoch 84/100\n",
            "Epoch 85/100\n",
            "Epoch 86/100\n",
            "Epoch 87/100\n",
            "Epoch 88/100\n",
            "Epoch 89/100\n",
            "Epoch 90/100\n",
            "Epoch 91/100\n",
            "Epoch 92/100\n",
            "Epoch 93/100\n",
            "Epoch 94/100\n",
            "Epoch 95/100\n",
            "Epoch 96/100\n",
            "Epoch 97/100\n",
            "Epoch 98/100\n",
            "Epoch 100/100\n"
          ],
          "name": "stdout"
        },
        {
          "output_type": "execute_result",
          "data": {
            "text/plain": [
              "<tensorflow.python.keras.callbacks.History at 0x7f0b152e6710>"
            ]
          },
          "metadata": {
            "tags": []
          },
          "execution_count": 11
        }
      ]
    },
    {
      "cell_type": "code",
      "metadata": {
        "id": "8Ser6x7q_dGj"
      },
      "source": [
        "def generate_text(seed_text, next_words, model, max_seq_len):\r\n",
        "    for _ in range(next_words):\r\n",
        "        token_list = tokenizer.texts_to_sequences([seed_text])[0]\r\n",
        "        token_list = pad_sequences([token_list], maxlen=max_seq_len-1, padding='pre')\r\n",
        "        predicted = model.predict_classes(token_list, verbose=0)\r\n",
        "        \r\n",
        "        output_word = \"\"\r\n",
        "        for word,index in tokenizer.word_index.items():\r\n",
        "            if index == predicted:\r\n",
        "                output_word = word\r\n",
        "                break\r\n",
        "        seed_text += \" \"+output_word\r\n",
        "    return seed_text.title()"
      ],
      "execution_count": null,
      "outputs": []
    },
    {
      "cell_type": "code",
      "metadata": {
        "id": "gCd7LcDzAoxo",
        "colab": {
          "base_uri": "https://localhost:8080/"
        },
        "outputId": "d1ab05c2-a4fe-4901-a75e-9ed7ccfecf9e"
      },
      "source": [
        "print(generate_text(\"united states\", 10, model, max_seq_len))\r\n",
        "print(generate_text(\"preident trump\", 10, model, max_seq_len))\r\n",
        "print(generate_text(\"donald trump\", 10, model, max_seq_len))\r\n",
        "print(generate_text(\"india and china\", 10, model, max_seq_len))\r\n",
        "print(generate_text(\"new york\", 10, model, max_seq_len))\r\n",
        "print(generate_text(\"science and technology\", 5, model, max_seq_len))"
      ],
      "execution_count": null,
      "outputs": [
        {
          "output_type": "stream",
          "text": [
            "/usr/local/lib/python3.6/dist-packages/tensorflow/python/keras/engine/sequential.py:450: UserWarning: `model.predict_classes()` is deprecated and will be removed after 2021-01-01. Please use instead:* `np.argmax(model.predict(x), axis=-1)`,   if your model does multi-class classification   (e.g. if it uses a `softmax` last-layer activation).* `(model.predict(x) > 0.5).astype(\"int32\")`,   if your model does binary classification   (e.g. if it uses a `sigmoid` last-layer activation).\n",
            "  warnings.warn('`model.predict_classes()` is deprecated and '\n"
          ],
          "name": "stderr"
        },
        {
          "output_type": "stream",
          "text": [
            "United States Is Species Trackers Scott Pruitt’S Ethics Inquiries Widen Vice Versa’\n",
            "Preident Trump Million Homes In A Questionable Moniker Or He A Gun\n",
            "Donald Trump Million Homes In A Questionable Moniker Or He A Gun\n",
            "India And China Dealt A Blow Then A Truth Zone Called It A\n",
            "New York Democrats End Have Have In Bolton Settles In Saudi Arabia\n",
            "Science And Technology Revolt Forcing Change At Last\n"
          ],
          "name": "stdout"
        }
      ]
    },
    {
      "cell_type": "code",
      "metadata": {
        "id": "6qP6ydjVpvvo",
        "colab": {
          "base_uri": "https://localhost:8080/"
        },
        "outputId": "49d9e39e-2d6b-4475-b5db-aeb1ab240226"
      },
      "source": [
        "print(generate_text(\"science and technology\", 5, model, max_seq_len))"
      ],
      "execution_count": null,
      "outputs": [
        {
          "output_type": "stream",
          "text": [
            "/usr/local/lib/python3.6/dist-packages/tensorflow/python/keras/engine/sequential.py:450: UserWarning: `model.predict_classes()` is deprecated and will be removed after 2021-01-01. Please use instead:* `np.argmax(model.predict(x), axis=-1)`,   if your model does multi-class classification   (e.g. if it uses a `softmax` last-layer activation).* `(model.predict(x) > 0.5).astype(\"int32\")`,   if your model does binary classification   (e.g. if it uses a `sigmoid` last-layer activation).\n",
            "  warnings.warn('`model.predict_classes()` is deprecated and '\n"
          ],
          "name": "stderr"
        },
        {
          "output_type": "stream",
          "text": [
            "Science And Technology Use The Top Global Way\n"
          ],
          "name": "stdout"
        }
      ]
    },
    {
      "cell_type": "code",
      "metadata": {
        "colab": {
          "base_uri": "https://localhost:8080/"
        },
        "id": "7k7RZP1Lo9cX",
        "outputId": "acfe268d-c243-4429-a583-2251585d9b61"
      },
      "source": [
        "print(generate_text(\"Pham Xuan Tri \", 2, model, max_seq_len))"
      ],
      "execution_count": null,
      "outputs": [
        {
          "output_type": "stream",
          "text": [
            "Pham Xuan Tri Is  To Sponsoring\n"
          ],
          "name": "stdout"
        },
        {
          "output_type": "stream",
          "text": [
            "/usr/local/lib/python3.6/dist-packages/tensorflow/python/keras/engine/sequential.py:450: UserWarning: `model.predict_classes()` is deprecated and will be removed after 2021-01-01. Please use instead:* `np.argmax(model.predict(x), axis=-1)`,   if your model does multi-class classification   (e.g. if it uses a `softmax` last-layer activation).* `(model.predict(x) > 0.5).astype(\"int32\")`,   if your model does binary classification   (e.g. if it uses a `sigmoid` last-layer activation).\n",
            "  warnings.warn('`model.predict_classes()` is deprecated and '\n"
          ],
          "name": "stderr"
        }
      ]
    }
  ]
}