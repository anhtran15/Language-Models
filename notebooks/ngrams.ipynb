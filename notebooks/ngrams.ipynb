{
  "nbformat": 4,
  "nbformat_minor": 0,
  "metadata": {
    "colab": {
      "name": "text-generation-ngram.ipynb",
      "provenance": [],
      "collapsed_sections": [],
      "toc_visible": true,
      "authorship_tag": "ABX9TyP/13PpgQiKeV5V5WBuwNVL",
      "include_colab_link": true
    },
    "kernelspec": {
      "name": "python3",
      "display_name": "Python 3"
    }
  },
  "cells": [
    {
      "cell_type": "markdown",
      "metadata": {
        "id": "view-in-github",
        "colab_type": "text"
      },
      "source": [
        "<a href=\"https://colab.research.google.com/github/AVL1/TextGeneration/blob/main/text_generation_ngram.ipynb\" target=\"_parent\"><img src=\"https://colab.research.google.com/assets/colab-badge.svg\" alt=\"Open In Colab\"/></a>"
      ]
    },
    {
      "cell_type": "markdown",
      "metadata": {
        "id": "2x_KNmJEeO08"
      },
      "source": [
        "<center><h2>Text generation</h2></center>"
      ]
    },
    {
      "cell_type": "markdown",
      "metadata": {
        "id": "XQ6D8UWpZYdi"
      },
      "source": [
        "###IMPORTS"
      ]
    },
    {
      "cell_type": "code",
      "metadata": {
        "id": "fa7GKE2XfQ7x"
      },
      "source": [
        "from google.colab import drive\r\n",
        "import pandas as pd\r\n",
        "import re\r\n",
        "import string\r\n",
        "import random"
      ],
      "execution_count": null,
      "outputs": []
    },
    {
      "cell_type": "markdown",
      "metadata": {
        "id": "nT-AeJTYG2vU"
      },
      "source": [
        "###1. Mount drive"
      ]
    },
    {
      "cell_type": "code",
      "metadata": {
        "id": "ILL4jDR3ZlIn",
        "colab": {
          "base_uri": "https://localhost:8080/"
        },
        "outputId": "9fd7c003-0c94-43d4-b279-39a65a62d30f"
      },
      "source": [
        "drive.mount('/content/drive')"
      ],
      "execution_count": null,
      "outputs": [
        {
          "output_type": "stream",
          "text": [
            "Mounted at /content/drive\n"
          ],
          "name": "stdout"
        }
      ]
    },
    {
      "cell_type": "markdown",
      "metadata": {
        "id": "OljDIINgUU4U"
      },
      "source": [
        "---\r\n",
        "###2. Read data"
      ]
    },
    {
      "cell_type": "code",
      "metadata": {
        "id": "RrtDciiKWybu"
      },
      "source": [
        "dataset = pd.read_csv('/content/drive/MyDrive/Datasets/headlines.csv', header=None)[0]\r\n",
        "dataset = dataset.to_list()"
      ],
      "execution_count": null,
      "outputs": []
    },
    {
      "cell_type": "code",
      "metadata": {
        "colab": {
          "base_uri": "https://localhost:8080/"
        },
        "id": "AV9SomZxXB_j",
        "outputId": "81aaa01d-1b6d-41b2-f0fa-1657ec80d691"
      },
      "source": [
        "dataset[:10]"
      ],
      "execution_count": null,
      "outputs": [
        {
          "output_type": "execute_result",
          "data": {
            "text/plain": [
              "['headline',\n",
              " 'Former N.F.L. Cheerleadersâ€™ Settlement Offer: $1 and a Meeting With Goodell',\n",
              " 'E.P.A. to Unveil a New Rule. Its Effect: Less Science in Policymaking.',\n",
              " 'The New Noma',\n",
              " 'Unknown',\n",
              " 'Unknown',\n",
              " 'Unknown',\n",
              " 'Unknown',\n",
              " 'Unknown',\n",
              " 'How a Bag of Texas Dirt  Became a Times Tradition']"
            ]
          },
          "metadata": {
            "tags": []
          },
          "execution_count": 4
        }
      ]
    },
    {
      "cell_type": "markdown",
      "metadata": {
        "id": "AG5f3S-4XXbL"
      },
      "source": [
        "---\r\n",
        "###3. Pre-processing"
      ]
    },
    {
      "cell_type": "code",
      "metadata": {
        "id": "LNWuG-R2ecG_"
      },
      "source": [
        "def split_to_sentences(dts):\r\n",
        "  \"\"\"\r\n",
        "  Split each line of dataset to sentences if possible.\r\n",
        "  Input (parameter dts) should be either:\r\n",
        "    1. List: each element is a string.\r\n",
        "    2. String.\r\n",
        "  Return: dataset[]\r\n",
        "          Each element in dataset[] is a string.\r\n",
        "  \"\"\"\r\n",
        "  new_dts = []\r\n",
        "  for i in range(len(dts)):\r\n",
        "    tmp = re.split(r'[.?!]\\s*', dts[i])\r\n",
        "    for sent in tmp:\r\n",
        "      if sent:\r\n",
        "        new_dts.append(sent)\r\n",
        "  return new_dts"
      ],
      "execution_count": null,
      "outputs": []
    },
    {
      "cell_type": "code",
      "metadata": {
        "id": "TPEfZOskkCe_"
      },
      "source": [
        "dataset = split_to_sentences(dataset)"
      ],
      "execution_count": null,
      "outputs": []
    },
    {
      "cell_type": "markdown",
      "metadata": {
        "id": "x0Ur4bSDNuGA"
      },
      "source": [
        "####4.1 Remove HTML tags"
      ]
    },
    {
      "cell_type": "code",
      "metadata": {
        "id": "izmSZAGmN8CV"
      },
      "source": [
        "def remove_html(dts):\r\n",
        "  \"\"\"\r\n",
        "  Remove HTML tags from dataset.\r\n",
        "  Eg: <br>, <h1>,...\r\n",
        "  Return: dataset[]\r\n",
        "  \"\"\"\r\n",
        "  cleanr = re.compile('<.*?>')\r\n",
        "  for i in range(len(dts)):\r\n",
        "    dts[i] = re.sub(cleanr, '', dts[i])\r\n",
        "  return dts"
      ],
      "execution_count": null,
      "outputs": []
    },
    {
      "cell_type": "code",
      "metadata": {
        "id": "Ng7x3MPlOzM5"
      },
      "source": [
        "dataset = remove_html(dataset)"
      ],
      "execution_count": null,
      "outputs": []
    },
    {
      "cell_type": "code",
      "metadata": {
        "colab": {
          "base_uri": "https://localhost:8080/"
        },
        "id": "4v89rPmYO-1h",
        "outputId": "3ab1c0ac-157e-4674-e694-0d13c3201c82"
      },
      "source": [
        "dataset[:10]"
      ],
      "execution_count": null,
      "outputs": [
        {
          "output_type": "execute_result",
          "data": {
            "text/plain": [
              "['headline',\n",
              " 'Former N',\n",
              " 'F',\n",
              " 'L',\n",
              " 'Cheerleadersâ€™ Settlement Offer: $1 and a Meeting With Goodell',\n",
              " 'E',\n",
              " 'P',\n",
              " 'A',\n",
              " 'to Unveil a New Rule',\n",
              " 'Its Effect: Less Science in Policymaking']"
            ]
          },
          "metadata": {
            "tags": []
          },
          "execution_count": 9
        }
      ]
    },
    {
      "cell_type": "markdown",
      "metadata": {
        "id": "OFO-sdxkXlIU"
      },
      "source": [
        "####4.2 Lowercase"
      ]
    },
    {
      "cell_type": "code",
      "metadata": {
        "id": "kBiCQoWMXuOV"
      },
      "source": [
        "def lowercase(dts):\r\n",
        "  \"\"\"\r\n",
        "  Convert each sentence in dataset into lowercase form.\r\n",
        "  Return: dataset[]\r\n",
        "  \"\"\"\r\n",
        "  for i in range(len(dts)):\r\n",
        "    dts[i] = dts[i].lower()\r\n",
        "  return dts"
      ],
      "execution_count": null,
      "outputs": []
    },
    {
      "cell_type": "code",
      "metadata": {
        "id": "zxHSNADyd82M"
      },
      "source": [
        "dataset = lowercase(dataset)"
      ],
      "execution_count": null,
      "outputs": []
    },
    {
      "cell_type": "code",
      "metadata": {
        "colab": {
          "base_uri": "https://localhost:8080/"
        },
        "id": "Qm-kWMuKmD-u",
        "outputId": "fed48dc0-7ecd-4569-83ef-7f92e9fd2c86"
      },
      "source": [
        "dataset[:10]"
      ],
      "execution_count": null,
      "outputs": [
        {
          "output_type": "execute_result",
          "data": {
            "text/plain": [
              "['headline',\n",
              " 'former n',\n",
              " 'f',\n",
              " 'l',\n",
              " 'cheerleadersâ€™ settlement offer: $1 and a meeting with goodell',\n",
              " 'e',\n",
              " 'p',\n",
              " 'a',\n",
              " 'to unveil a new rule',\n",
              " 'its effect: less science in policymaking']"
            ]
          },
          "metadata": {
            "tags": []
          },
          "execution_count": 12
        }
      ]
    },
    {
      "cell_type": "markdown",
      "metadata": {
        "id": "erW_umpmZILU"
      },
      "source": [
        "####4.3 Remove punctuations"
      ]
    },
    {
      "cell_type": "code",
      "metadata": {
        "id": "zf60hgyxZHeU"
      },
      "source": [
        "def remove_punctuations(dts):\r\n",
        "  \"\"\"\r\n",
        "  Remove punctuations from dataset.\r\n",
        "  Return: dataset[]\r\n",
        "  \"\"\"\r\n",
        "  for i in range(len(dts)):\r\n",
        "    for punc in string.punctuation:\r\n",
        "      dts[i] = dts[i].replace(punc, '')\r\n",
        "  return dts"
      ],
      "execution_count": null,
      "outputs": []
    },
    {
      "cell_type": "code",
      "metadata": {
        "id": "ZUcSaZdbMoS6"
      },
      "source": [
        "dataset = remove_punctuations(dataset)"
      ],
      "execution_count": null,
      "outputs": []
    },
    {
      "cell_type": "code",
      "metadata": {
        "colab": {
          "base_uri": "https://localhost:8080/"
        },
        "id": "twh2ISaUMxaZ",
        "outputId": "6690d007-232f-43af-ed9a-4772112a7446"
      },
      "source": [
        "dataset[:10]"
      ],
      "execution_count": null,
      "outputs": [
        {
          "output_type": "execute_result",
          "data": {
            "text/plain": [
              "['headline',\n",
              " 'former n',\n",
              " 'f',\n",
              " 'l',\n",
              " 'cheerleadersâ€™ settlement offer 1 and a meeting with goodell',\n",
              " 'e',\n",
              " 'p',\n",
              " 'a',\n",
              " 'to unveil a new rule',\n",
              " 'its effect less science in policymaking']"
            ]
          },
          "metadata": {
            "tags": []
          },
          "execution_count": 15
        }
      ]
    },
    {
      "cell_type": "markdown",
      "metadata": {
        "id": "QXzV6KTPNBs5"
      },
      "source": [
        "####4.4 Remove special characters, retain only letters and digits"
      ]
    },
    {
      "cell_type": "code",
      "metadata": {
        "id": "GU86-p-JNWaP"
      },
      "source": [
        "def remove_special_characters(dts):\r\n",
        "  \"\"\"\r\n",
        "  Remove special characters from dataset.\r\n",
        "  Eg: @ # $ % ^ blank...\r\n",
        "  Return: dataset[]\r\n",
        "  \"\"\"\r\n",
        "  for i in range(len(dts)):\r\n",
        "   dts[i] = re.sub('[^A-Za-z0-9 ]+', '', dts[i])\r\n",
        "   dts[i] = ' '.join(dts[i].split())\r\n",
        "  return dts"
      ],
      "execution_count": null,
      "outputs": []
    },
    {
      "cell_type": "code",
      "metadata": {
        "id": "vs2kEPRVQj3A"
      },
      "source": [
        "dataset = remove_special_characters(dataset)"
      ],
      "execution_count": null,
      "outputs": []
    },
    {
      "cell_type": "code",
      "metadata": {
        "colab": {
          "base_uri": "https://localhost:8080/"
        },
        "id": "yxNZR8b9QntA",
        "outputId": "395cd125-de76-47dd-dfbd-0c2dc41f8983"
      },
      "source": [
        "dataset[:10]"
      ],
      "execution_count": null,
      "outputs": [
        {
          "output_type": "execute_result",
          "data": {
            "text/plain": [
              "['headline',\n",
              " 'former n',\n",
              " 'f',\n",
              " 'l',\n",
              " 'cheerleaders settlement offer 1 and a meeting with goodell',\n",
              " 'e',\n",
              " 'p',\n",
              " 'a',\n",
              " 'to unveil a new rule',\n",
              " 'its effect less science in policymaking']"
            ]
          },
          "metadata": {
            "tags": []
          },
          "execution_count": 18
        }
      ]
    },
    {
      "cell_type": "markdown",
      "metadata": {
        "id": "BzWwRDDHbkKp"
      },
      "source": [
        "####4.5 Drop-out very short sentences"
      ]
    },
    {
      "cell_type": "code",
      "metadata": {
        "id": "VsqwK1RVQPtb"
      },
      "source": [
        "def drop_short_sentences(dts):\r\n",
        "  \"\"\"\r\n",
        "  Remove sentences that only have 1 or 2 word(s),\r\n",
        "  Return: dataset[]\r\n",
        "  \"\"\"\r\n",
        "  new_dts = []\r\n",
        "  for sent in dts:\r\n",
        "    if len(sent.split(' ')) > 1:\r\n",
        "      new_dts.append(sent)\r\n",
        "  return new_dts"
      ],
      "execution_count": null,
      "outputs": []
    },
    {
      "cell_type": "code",
      "metadata": {
        "id": "qzMLmgnEQli_"
      },
      "source": [
        "dataset = drop_short_sentences(dataset)"
      ],
      "execution_count": null,
      "outputs": []
    },
    {
      "cell_type": "markdown",
      "metadata": {
        "id": "4l3n9T-groDV"
      },
      "source": [
        "####4.6 Padding\r\n",
        "*Add start/end of sentence symbols*"
      ]
    },
    {
      "cell_type": "code",
      "metadata": {
        "id": "CwDRHmWiryCO"
      },
      "source": [
        "def padding(dts, ngrams=2):\r\n",
        "  \"\"\"\r\n",
        "  Add <s> and </s> to each sentence.\r\n",
        "  Return: dataset[]\r\n",
        "  \"\"\"\r\n",
        "  for i in range(len(dts)):\r\n",
        "    dts[i] = '<s> '*ngrams  + dts[i] + ' </s>'*ngrams\r\n",
        "  return dts"
      ],
      "execution_count": null,
      "outputs": []
    },
    {
      "cell_type": "code",
      "metadata": {
        "id": "nTf4Zwt_slMI"
      },
      "source": [
        "dataset = padding(dataset)"
      ],
      "execution_count": null,
      "outputs": []
    },
    {
      "cell_type": "code",
      "metadata": {
        "colab": {
          "base_uri": "https://localhost:8080/"
        },
        "id": "Xd5gcsszdKPp",
        "outputId": "44c19b93-00b8-4928-c8e2-e8e49cfb764f"
      },
      "source": [
        "dataset[:10]"
      ],
      "execution_count": null,
      "outputs": [
        {
          "output_type": "execute_result",
          "data": {
            "text/plain": [
              "['<s> <s> former n </s> </s>',\n",
              " '<s> <s> cheerleaders settlement offer 1 and a meeting with goodell </s> </s>',\n",
              " '<s> <s> to unveil a new rule </s> </s>',\n",
              " '<s> <s> its effect less science in policymaking </s> </s>',\n",
              " '<s> <s> the new noma </s> </s>',\n",
              " '<s> <s> how a bag of texas dirt became a times tradition </s> </s>',\n",
              " '<s> <s> is school a place for selfexpression </s> </s>',\n",
              " '<s> <s> commuter reprogramming </s> </s>',\n",
              " '<s> <s> ford changed leaders </s> </s>',\n",
              " '<s> <s> romney failed to win at utah convention </s> </s>']"
            ]
          },
          "metadata": {
            "tags": []
          },
          "execution_count": 23
        }
      ]
    },
    {
      "cell_type": "markdown",
      "metadata": {
        "id": "emr_A4jT1ugb"
      },
      "source": [
        "####4.7 Pack pre-processing methods"
      ]
    },
    {
      "cell_type": "code",
      "metadata": {
        "id": "8xFu7HGx14qD"
      },
      "source": [
        "def preprocess(dts):\r\n",
        "  dts = remove_html(dts)\r\n",
        "  dts = lowercase(dts)\r\n",
        "  dts = remove_punctuations(dts)\r\n",
        "  dts = remove_special_characters(dts)\r\n",
        "  dts = padding(dts)\r\n",
        "  return dts"
      ],
      "execution_count": null,
      "outputs": []
    },
    {
      "cell_type": "markdown",
      "metadata": {
        "id": "_dNT3I9iYjj6"
      },
      "source": [
        "---\r\n",
        "###5. Train/Test split\r\n"
      ]
    },
    {
      "cell_type": "code",
      "metadata": {
        "id": "Sam3C71uY2LZ"
      },
      "source": [
        "# Train/Test = 9/1\r\n",
        "random.shuffle(dataset)\r\n",
        "split_point = int(len(dataset) * 0.9)\r\n",
        "training_set = dataset[:split_point]\r\n",
        "test_set = dataset[split_point:]"
      ],
      "execution_count": null,
      "outputs": []
    },
    {
      "cell_type": "markdown",
      "metadata": {
        "id": "ZjYsGMRib9t0"
      },
      "source": [
        "\r\n",
        "---\r\n",
        "###6. Build vocabulary"
      ]
    },
    {
      "cell_type": "code",
      "metadata": {
        "id": "BHA2Kh45cDw_"
      },
      "source": [
        "def build_vocabulary(dts):\r\n",
        "  \"\"\"\r\n",
        "  Build vocabulary from input dataset.\r\n",
        "  Return: vocabulary[]\r\n",
        "  \"\"\"\r\n",
        "  vocab = set()\r\n",
        "  for sent in dts:\r\n",
        "    for word in sent.split(' '):\r\n",
        "      if word:\r\n",
        "        vocab.add(word)\r\n",
        "  return list(vocab)"
      ],
      "execution_count": null,
      "outputs": []
    },
    {
      "cell_type": "code",
      "metadata": {
        "id": "wazJDinOlYw3"
      },
      "source": [
        "vocabulary = build_vocabulary(training_set)"
      ],
      "execution_count": null,
      "outputs": []
    },
    {
      "cell_type": "code",
      "metadata": {
        "colab": {
          "base_uri": "https://localhost:8080/"
        },
        "id": "IXOC6E2wzaKt",
        "outputId": "2aadc1f3-2269-4eb9-df1f-fe7bf937a635"
      },
      "source": [
        "V = len(vocabulary)\r\n",
        "print(V)"
      ],
      "execution_count": null,
      "outputs": [
        {
          "output_type": "stream",
          "text": [
            "7386\n"
          ],
          "name": "stdout"
        }
      ]
    },
    {
      "cell_type": "code",
      "metadata": {
        "colab": {
          "base_uri": "https://localhost:8080/"
        },
        "id": "G_kyrbBYl42v",
        "outputId": "f6850a13-6048-4369-ce90-630cdd13d8c7"
      },
      "source": [
        "vocabulary[:10]"
      ],
      "execution_count": null,
      "outputs": [
        {
          "output_type": "execute_result",
          "data": {
            "text/plain": [
              "['matters',\n",
              " 'meatloaf',\n",
              " 'complicated',\n",
              " 'ivory',\n",
              " 'riders',\n",
              " 'mudslides',\n",
              " 'prescription',\n",
              " 'pouring',\n",
              " 'g',\n",
              " 'runaway']"
            ]
          },
          "metadata": {
            "tags": []
          },
          "execution_count": 29
        }
      ]
    },
    {
      "cell_type": "markdown",
      "metadata": {
        "id": "tgeqiGCTRUSR"
      },
      "source": [
        "---\r\n",
        "###6. Build **trigram** model"
      ]
    },
    {
      "cell_type": "code",
      "metadata": {
        "id": "t3_6NS9nyx2N"
      },
      "source": [
        "def count_sequence(seq, dts):\r\n",
        "  \"\"\"\r\n",
        "  Count occurrences of input sequence in entire dataset.\r\n",
        "  Return: int\r\n",
        "  \"\"\"\r\n",
        "  n = 0\r\n",
        "  for sent in dts:\r\n",
        "    n += sent.count(seq)\r\n",
        "  return n"
      ],
      "execution_count": null,
      "outputs": []
    },
    {
      "cell_type": "code",
      "metadata": {
        "id": "JCHxCSSfRbTA"
      },
      "source": [
        "def build_trigram_model(dts):\r\n",
        "  \"\"\"\r\n",
        "  Build trigram model from dataset.\r\n",
        "  The model is a dictionary with each item is (trigram sequence): probability.\r\n",
        "  Return: model{}\r\n",
        "  \"\"\"\r\n",
        "  model = {}\r\n",
        "  for sent in dts:\r\n",
        "    tokens = sent.split(' ')\r\n",
        "    for i in range(2, len(tokens)):\r\n",
        "      wn = tokens[i]\r\n",
        "      wn_1 = tokens[i-1]\r\n",
        "      wn_2 = tokens[i-2]\r\n",
        "      \r\n",
        "      # calculate probability with Laplace smoothing\r\n",
        "      C_tri = count_sequence(wn_2 + ' ' + wn_1 + ' ' + wn, dts)\r\n",
        "      C_bi = count_sequence(wn_2 + ' ' + wn_1, dts)\r\n",
        "      prob = (C_tri + 1) / (C_bi + V)\r\n",
        "\r\n",
        "      # save result to model\r\n",
        "      model[(wn_2, wn_1, wn)] = prob\r\n",
        "  \r\n",
        "  return model"
      ],
      "execution_count": null,
      "outputs": []
    },
    {
      "cell_type": "code",
      "metadata": {
        "id": "3muQ2NgCb54m"
      },
      "source": [
        "trigram_model = build_trigram_model(training_set)"
      ],
      "execution_count": null,
      "outputs": []
    },
    {
      "cell_type": "markdown",
      "metadata": {
        "id": "1wjwTR6q1MtI"
      },
      "source": [
        "###7. Predict next word"
      ]
    },
    {
      "cell_type": "code",
      "metadata": {
        "id": "nRHVPu9I1Pob"
      },
      "source": [
        "def generate1(seed_text, model):\r\n",
        "  \"\"\"\r\n",
        "  Generate 1 next word that has highest probability on seed_text with probability value.\r\n",
        "  Return: (string, float)\r\n",
        "  \"\"\"\r\n",
        "  text = preprocess([seed_text])[0]\r\n",
        "  text = text.split(' ')\r\n",
        "  wn_1 = text[-3]\r\n",
        "  wn_2 = text[-4]\r\n",
        "  \r\n",
        "  predicted_word = 'UNK'\r\n",
        "  predicted_prob = 0\r\n",
        "\r\n",
        "  for key, value in model.items():\r\n",
        "    if wn_2 == key[0] and wn_1 == key[1]:\r\n",
        "      if predicted_prob < value:\r\n",
        "        predicted_word = key[2]\r\n",
        "        predicted_prob = value\r\n",
        "  return (predicted_word, predicted_prob)"
      ],
      "execution_count": null,
      "outputs": []
    },
    {
      "cell_type": "code",
      "metadata": {
        "id": "vn-Q_vHCHS53"
      },
      "source": [
        "def generate(seed_text, model, n=1):\r\n",
        "  \"\"\"\r\n",
        "  Generate n next words and probability of whole generated sequence\r\n",
        "  until meet <UNK> or </s> symbol.\r\n",
        "  Return: (string, float)\r\n",
        "  \"\"\"\r\n",
        "  tmp = ''\r\n",
        "  tmp2 = seed_text\r\n",
        "  sent_prob = 1\r\n",
        "  for i in range(n):\r\n",
        "    text, prob = generate1(tmp2 + tmp, model)\r\n",
        "    if text == 'UNK' or text == '</s>':\r\n",
        "      break \r\n",
        "    tmp = tmp + ' ' + text\r\n",
        "    sent_prob *= prob \r\n",
        "  return seed_text + tmp, sent_prob"
      ],
      "execution_count": null,
      "outputs": []
    },
    {
      "cell_type": "code",
      "metadata": {
        "colab": {
          "base_uri": "https://localhost:8080/"
        },
        "id": "HYygQc1hGd3Y",
        "outputId": "180e10eb-811c-42a8-a0da-df72a3fdea79"
      },
      "source": [
        "print(generate1('sky', trigram_model))"
      ],
      "execution_count": null,
      "outputs": [
        {
          "output_type": "stream",
          "text": [
            "('UNK', 0)\n"
          ],
          "name": "stdout"
        }
      ]
    },
    {
      "cell_type": "code",
      "metadata": {
        "colab": {
          "base_uri": "https://localhost:8080/"
        },
        "id": "slAqYMuCIMOS",
        "outputId": "e0557d5a-6b5d-4ffc-e657-b30a981d2521"
      },
      "source": [
        "print(generate('what', trigram_model, 5))"
      ],
      "execution_count": null,
      "outputs": [
        {
          "output_type": "stream",
          "text": [
            "('what do you think the role', 9.932321680987543e-17)\n"
          ],
          "name": "stdout"
        }
      ]
    },
    {
      "cell_type": "markdown",
      "metadata": {
        "id": "eoBIVPWiVE32"
      },
      "source": [
        "### 8. Evaluation: Perplexity"
      ]
    },
    {
      "cell_type": "markdown",
      "metadata": {
        "id": "A2Dk97Gc2db6"
      },
      "source": [
        "![pp.PNG](data:image/png;base64,iVBORw0KGgoAAAANSUhEUgAAAhUAAACDCAYAAAA6ROkJAAAAAXNSR0IArs4c6QAAAARnQU1BAACxjwv8YQUAAAAJcEhZcwAAEnQAABJ0Ad5mH3gAABq5SURBVHhe7d35U5NX3wbwPDdGBONWxbbWpeIuWpdHEahFXIoigijaKlJBcEGsoGhFxBWqQBEUpIhad0UFERAEIYARqhQztY6OHQeeef+V602ASAJJyHKDJFw/fKZjTu4E7mrOlbN8j+Tv/6sHERERkbUYKoiIiEgUDBVEREQkCoYKIiIiEgVDBREREYmCoYKIiIhEwVBBREREomCoICIiIlEwVBAREZEoGCqIiIhIFAwVREREJAqGCiIiIhIFQwURERGJgqGCiIiIRMFQQURERKJgqCAiIiJRMFQQERGRKBgqiIiISBQMFURERCQKhgoiIiISBUMFERERiYKhgoiIiETBUEFERESiYKggIiIiUTBUEBERkSgYKoisUoVzYeMwWBAgkUi6Uj3u9PUqLPT/Hn5riUjtVfMzPf+WyB4wVBBZpQzHvh+N4CvVetraPH35CMmZR4monfJ/Cr3/Vsj2MVQQWaX7UEFE1F8wVBBZhaGCiEiDoYLIKgwVREQaDBVEVmGoICLSYKggsgpDBRGRBkMFkVUYKoiINBgqiKzCUEFEpMFQQWQVEUNFSxHy75xD7q1zyHuYD4VOWykKHpxvbcu9dR7X5BW61xIR9QEMFURWEXOk4inKCg5j/cxBkAz7Fodr6rTaqlFVdgqbZg3G9NBjuNsk12ojIuobGCqIrCL29EcJkoNGQioZiDlxl/FSu+3fPER5euOIgtUIiahvYqggsorIoeL1r9jgtxnhPkMgnbwROW862ppqYuC9IhbFzVrPJyLqQxgqiKxSgj3zh8M7o0pPm/nqr/8In5jf8SRrFT4f4II1WcVQtrYpUJW+AosPX0Njp2uIiPoKhgoiqxRj14z/wPO3p3razCXHlehv8dONavz9NgNbpkgxdPn+9pGJCqSHeGDXQ66lIKK+i6GCyCqPcdhDgpUXRRip+HAFe5YHIu21+s9y3DowG46Os7C7RBUk3p3D1qUhuPi+0zVERH0IQwWRVcQLFU3Ve7EkIB4VLe1/ro2D93ApXCMyUFO8Az5haXje6Roior6EoYLIKmKFCgXKT/vA++htNGkeaylBavBoOHzhi9h9S7Euu6zTNUREfQtDBZFVRAoVLcVIClqIqEe6ayae39qESdKBkI1ZgVON3EpKRH0bQwWRVcQJFco/j2Dl9CCce9upTb3OYsEgDF4eh9L2aRH6NOprM3A45iCu/qu/nYgYKoisZH2oaFR1VrFrXTFo+BxsOJmGwnfa7XUoSfaB95GbHdMi1Ksanp1DQqQXJg4R4PBFIDJ0/v8QkTaGCiKriLdQ06A3D/C4iVMfn4KiMg0nfjuB1KO+mCiVMFQQdYOhgsgqvRAq6JNT/vkLlsoYKoi6w1BBZBWGiv5A2RiPZQwVRN1iqCCyCkNFf8BQQWQahgoiqzBU9AcMFUSmYaggsgpDRX/AUEFkGoYKIqsUY9dMAR6/VeppI3vBUEFkGoYKIquUYrfbf+CZbuyU0hIcXz0YEomkFzhjearmuHQSC0MFkWkYKoisYsr0hxylBclITt2H6K1ecB0u6AQBJ+8InL+RgRxTXdkO7yHaryFg2BQv/HhgH45lJuPqMx6PLjaGCiLTMFQQaWn6pwglNXdRoihFg9bjzxvvtT5eXFuAGp0yzeauqVCg6tJ6TJJ2hArZ2mNQ6H2uAW9PIWBER6iQTl2HzBcsjtWTGCqITMNQQaSlqekPpES6YdCAeYitqG1/XIHaqhSELRgNz5hUPNLpVCxYqPkuHZsmOIgUKhwwdmuaTgAi8TFUEJmGocJWNRfhdkk+GvW1iaIOpaWXUdGsr82eKVD5mx++Gi5gSlR2R2f94Q/sCdiMnC4digWh4v15bJ0iFSlUSOG64xxe6HseiUb54hBDBZEJGCps0durOLY1ALEFFfrbRVJfEoN1IQdwu/PJmXatHKkRG5GQ+B1kX65BurLtceWzOARsS8HzLs9nqOgPXpZsx1wnCYSRq5DyRv9ziIihwkJ1KL55GIm/HsSRThJTjyHjZi4e1D/BS6uv0aPlITLD3LE28/7HUyubmm7j5sOLuK6t6BrK3ypQX38NNzq3PbqJqvZ1AcrX93CnSH9b68+cvhKLQpJQ3l9GLN6mYutPR1DZpOq4Px+KZSkPWndSyDMCsSG7TM81DBX2rEmRiSMHNsN/gQsc1Pd7wAjMCtyMqMTjuM5D3oi6YKiwUMNft3E1OxQeo9rmxqXj3PHDnnCER6zFmu9nYLSjAwaPnQP/mFO41/7NxpJrdCnwJMsPM9cmoqyl4/Gm+hwkxS2Fa+viPwHD5vsjJj0TRW8UeF6ThdST6zC3dceBAKeZ32NPehZK37ddq1ReR3Z6OHzGSyE4fY3lB1LwqL2tVUsR0n6YAb+Mts714+N26sWdUASfuKsKbFXI2zERju5RuPfhKTIjA3FC72JIhgoiIg2GCmu0PMRRX+e2jsH/CGo+tilQ9/QUflo4DILEAS7LY5Cv+fZvyTUarzMQMnM2oor1bBn8cBnRCwapXncQFsZf011r0XwPh5Y6qdoGwi0mt+toiHq9gLsM03dkaP08HRororBwahDOvbL3b2a1uBG3Bnsety3QbCzbibmOrgi/lYHILftRone0hqGCiEiDocIqlfh1bVtRI9maRNR2aq/PD8U0R9UH/wAXrM4sav+mb8k1agqUJHvhM599Bjq3CqQEj1AFEimmRGV16mSqcT70Szio2iZEZHTpgF6W7MD8iX4486eB0NBSgGO+o+DV+g1eT7u9aL6B2OBQ5GlGalruI/H7IXBZ5I61CZ2C2kcMFUREGgwVVjEeEP5+m4TAUeoPf+0PfkuuUWm+iVjPwVicdN/ANIQc12NmwlEiYETwSd1OquUBjvuPVAUOAUMDj6JOp60YqT98jYW/XDGynkOB8tOLIVuwE/kf9LXbh6bqvfDd8qvOvZPnrIaLZCp2PDRUUIqhgohIg6HCKt0EhDcnsWak+sN/IGbH5rV32pZco+rwamLgIXVDdJmmdkJnClSc8cZg1es6LYlBsdZoRkNBGOYMGaQKFerqjXvxUKvtZclOLJi2FhndTG00VUZhvnQ+Yqvr9LbbOuWL35EQNAEuyyJw7qnWrpp3Wdi2fDNytdeZ6GCoICLSYKiwirGAoED1pXWYqF486TgVEfeqrbimHjXnVkA20h9njWzvbLiyHl8NkMDRLRRXPq7hKERS0H+xJXolXNRtM0Nx+WNbEVKCJ2Lx0Rvd17t4l4YNXzhjRXqp/na7pUDNXyVG7g9DBRGRBkOFVQwFBDnK82OwavJACMJguEWmoerjbg1LrqnFzZipEOZux10j0w+Nj3dinnov/ajVSGsPHw0F27BoVRwKVf91c2xr+6297UVRJObP2ogLr3VfR6/m6/h5oYCp0Tndb3vtlhz5meEI3bYBm8PNtO0HRKReNK8T7lHFiJolwDPdjFNKGSqIyE4xVFilIyBIx8+B73o/+K/5Dp7zxmLYACd8MW8JQpMvoEpnYaUl11QjfeNQSJYdwBOtraRdvEqAr0zV2Th7If6ZAuqdJsnB8xB6owJN9XFYIlN1QrLFSKhva/t1vSuWJpu6+LIMx30FyIKTUK+33Rx1KLnxCw4mRmPfETMl7kXClZt9qBMtw/5vv4RvFkcqiIgYKqzSERCcvMNx9soZZF5Ox8UHecivKTHwQW/JNRVI8lN1IKsT8Uxve7v3GdgySdVZOU7D9gJ560iEx4oYFKoDytvTWP+5qiNydEPUIzkaCrdh7txQ5JlcLbMKZ9YOhMT3sN5tp/1XOZICXLH5esdUVbcYKojITjFUWMXQVIYxllxThhMrJRD8E/WUidai3iHyrRMkwigE5dzD6eA52HS5vQrkv7nYNUcVCgaMwQ+X7+JU4GSsTDenoFUVUoOdIVlxCFV62/sr2woVNx/lwXGQI1Gvu1aYq/fvJNkXhgqr9Fao0IwSxEOut13jieq1h0KQOOPbbRvg7hON+5o1GC0FSFihLrrljCWRGzDHPQLXzDoYqRJJ/gIcAo6KtJ6hFi/eVkLxxkxvq9BobAqo19lWqFD+T4EX7+VEvU79d0/f30myLwwVVumtUCFH3o7xEDx3t01l6H2Omup5uyZBKhHg6DwewbmlWiMRVTi72aW1VoWj81gEZmsX1jJByz0c9BYwblvX4lnmq0LWtvEYJLR1qmYRpPhiw8luwpW16lB2ORlXTJoa4vQHEZEGQ4VVVB3KmvaA4H/YxI7OkmsUKDvlAYcJG5FjsF6CWh2Kjy+Ckyo4DPbYhbs6Zb7luLZ3RmtxLJlnFO50LgHenX+zET7FAR7H8+27qqba2/MInzUBm/54qr9dB0MFEZEGQ4U1PlxDjKf6vA0JBi3YjlumdNSWXKPysjAM06QeiH9ufAjxefZqjJR+icDs4k4jEQqUJy/GYOk4bLhkfq0JZWM8fJxcEfHAUGVJe6EKZsnfYaQgxfiwNONrWFr181DRXITbJfnd1zkRgfLVRWTe6jidl/qSOpSWXkaF0ZFU6g8YKixSi4Lfd2JLwEyMGtDWMaiPRJ7uF4ydJzPwWO8/LEuu0fI2HZvGj0DABa1qj3q8LAjDN4sicVPPiEb9xUBM8NmLAgtKbT+/FIjRY4Nw3uTdIjbqn0zsifTD4lECpK7ByOr29+3HoeLtVRzbGoDYAuN/J8XScHklHDziuPuoj6ovicG6kAO4be+fEWQUQ4XNkONy1CSMCTljtANSKi8ht7DzKEWbpudZyHlsRpGmj6pwIWwcXCPPoUFvu72oQ9GZMBwsLURS4GcQpOOw+Vp3UyC2GioUqKm5jBsPL+K6tqKLuFWRj8p/uhmRanmIzDB3rM3svZGDhku+kCza18PrachydShOX4lFIUko54hFv8VQYUMaK3Zj0derkPJXL6+ifpWMINd5+NnguSN24u+z2BN3BtUtClRlLG+dAvl629lupkBsN1RUPz6DozE+cFWXhZcIkE5YiHWRm/Djhu/wzRgZXGYtwdbkLDzp0kEo8CTLDzPXJqKsF3fiMFTYgJYipP0wA34Z5mxXJ3vCUGFTKpEXNROLDl0ToVS2qWrxIMEdbtszjRfesgPP7ybi9NO24KR8cQQr1VMgkzYix+hwro1Pf7w+Br/hqtcSZFiS3HECrvJVJiLmyyAM+AweB3/X/fleZyBk5mxEFffu+hqGCtvQWBGFhVODcK6bQwrJPjFU2Bjlq3SEevkgobp3Rg2a5L/A12sDzjf2sw8I1Teuk2tGQJBOwJYbxkpw23aoeHFnMyZLJRCc3XFA5wRaBUqTvFpPvXX4MhCZH4OVAiXJXvjMZx9KenmIm6HCRrQU4JjvKHidMPUIALInDBU2qOHxPvj778QVUw4Cs8abXMQG+uJgiRnnWtgNBSrSl2GEoOq0IzOMnHdiy6GiFrfiZmOQ6nUGLdyJO50W8NacXQ6Zqk2QLcPJV+2Pq6u2eg7G4qSOUY3ewlBhKxQoP70YsgU7kW/BonCybQwVNqqhOgmHsq714Fa+WhRm70PK0/4YKNoo/zwM35ECpJN/NDIFYsOhovkODno7QZAMxPToC52m1FSBY79ba+Bw/CYc19q3PjfVxMBD6oZog+tr6qCov46Cej1TI82PUa3UHvGqhbz6Gh79rT1CYpj+UNFz7/fp2e7v1lQZhfnS+YjVGf2i/oChgsiQloc47j8cgnQifrplKDRYEirO6YaKQHNDxUmsUa+D0ISK7ZkWhQplQzyWDVO9jnQ8Qm7o/vzKv1KxaZrqZxzggqXJtz6G15pzKyAb6Y+zXUJWHcruHcHezbMxcoCAkcEnOlWLlSM/cTF8tUc4Xp+Avyq0OU7aiGwTtiHqhoqef79Pxw5+t3dp2PCFM1akm18Th2wbQwWRQQo8SfXBcEGKSTsyDWyntSBUvDqG1aM0oUACp293m1U7pEm+F57Obdeqd218FpiIaj3P605Nlh9cBPWaidVIVX/rbZHjWeNt/JG9G8ELRsLBaTQ8o9O0tgfW4mbMVAhzt+OuoZ/3zWmsH+MAx9nhuKpV2K2xaj+WuDhhdmye1ohIBa4dcofL56uR9k/Hcw3RO1LRg+/3ydny79Z8HT8vFDA1OqcXF5VTX8BQQWSEsj4ey0cIkE7djFy9B7CZFypeNPyOxI2TdM89GfA5fA6cxaM33S+GfV6bgdiVY+CguVZFcHJFQHIOnhgt4d7ZU5zf+pXqdQQMnugGd4/ZcJs2AZPnzIXX98sRHB2H7OonndZNVCN941BIlh3AE0NbSZtvYv9iJwij/JD6RvNYPpKi3DHV0QHjwn7TCWdNVT9jZcgpVOm8Xi2q5XdQ1Sm46A0Voryfyr+F+CP9ELKe96Hh+h68lxYx6x6V4bivAFlwkpH1SGSPGCqIjFGvZF81FILUFVtv6wsOpoSKcpyPXoS5s7/GaFnHCIUuAYNGjcW0+QuwIf2O7qr55ntI2uqOOW7jMMrZ8PWyzydgxoJFiNAcd2/M+yxsmyGFRBgM76R7Jq7Sr0CSn+q9Vica2V78FOk/urTuJolrnU9XoDz7J0RdPI4NXzlAFqB9iF4t7h3fjP2lumsGlM/j4O0oYN4vumuG9K+psPL9PhTh5oUY/LjoM0ikc7CnT9Vi6bl7aRaL7pHmZOXDrIDazzBUEBml+iA/441hghSTd57XMwViSqioxNUzoQjbFWKCUMRdLdDt5FseIueY6dcfLei+amrj452Y66QKCE7zsLfc1I60DCdWSiD4JxopCFaLm/vc4KgKYWF35FC+OI3wyCMoffc7dn4zEE7ee1HUPp3SWB2PrfvSIe8yanAbGYm7kVKuW81Uf6iw8v3+rYTinQJVKd4Y1OdCRc/dS7NYdI+qkBrsDMmKQ6jS2072iqGCqBvK5wexdLgA6fQQ5HWZYrBgTcUnV4dH6tNsBQkcZ23Vma83TvPtM75Tx66tDiUnPVWvPQpBvxciK8of+x6rvj0338XBJU4d7/f2ImJDtiLbjAJJ+kOFOO/3LGM5nPpcqOi5e2kJ8+5RJZL8BTgEHDVvETLZPIYKou603MeR74dAkE5G+F3d4WWbDBUtD3HMbygEiRTjw9PNmPOWI2/HeAieu1FopPBVXeYKyARneG1ZhxVRGahrfbwCp4OGtBfSKkXOnpWIuPG405qNChQXpCElNQZ7j6d0Ka6lP1RY834d+mao6Ll7aQmz7lHLPRz0FjBuW4bl1V7JJjFUEHVLgcfJ32GoIMXUqKxOH5I2GCqUJxEwWoBEGAH/8yasv/hIgbJTHnCYsBE5RhaFNlwOwpcD1LtKViDp41H9cuREjINU5o2Y1B8QdCRPzxTKU5Q/TsT6SRKMDD7V3oF2MBQqLH+/DqZ3mArIy84gKTsH5QbvgVjP6bl7aQmzQsW/2Qif4gCP4/msqtnPMFQQmUD5LA5LhglwnBmKyzqdgO2FCnn2anyhPn7f6RvseWzeN/OXhWGYJvVA/McOrqsXtzbD1XEI3OP/0NpOWIvbB77BIGEopm46avCbs/KvBPjKnLEsretJu4ZChTXvp2Fyh/n+LDZPVC9wHYYVaQ/1j3yI9RyVnrqXljAnVCgb4+Hj5IqIB51H9sjeMVQQmaLlPhKWyyA4TkHEfe0PShsKFR+uI2XPaiwcNxCCeseIMARTfTciOvuqgRocerxNx6bxIxBwoUJ/u8rLR5GYOycEuTr1EhR48qs3vlociTwjc/+Ki2vgInXHQXnXbYuGQoU176dhcofZfBfJW9wwfro34goNVJsV6zkq4t7LWuTH/xcydaDssntImwNkC3bgVqdtqOaEiueXAjF6bBDO9+kiY9QTGCqITFKHkqRvIRPaSlp3TIHY4kJNa8hxOWoSxoScMbwA780t3K3uutugse4q7hnt4OXIjRwP6fwdXc4hUTMUKix/vw5mDe33JrHv5ftKVP9VhMoXxhSj+k3XEQbT71EVLoSNg2vkOdPDKtkNhgoiEzXV7oP3EAGOs37CHx93TFgSKj5VQSJxNFbsxqKvVyHlL9M6bJN9uISouVJM2tl53Uobg6FCBH02VFiqm3tpCZPv0atkBLnOw8/2ci/JLAwVRKZqzsehpYMhOE5DZIHmm5z5oeLTFSQSSyXyomZi0aFropZgVtYfUN2XUViXex9Xs9NQ2Cl09WSoqE7zUXWYs81eY9JXdXcvLWHaParFgwR3uG3PNFIgjewZQwWRyepQfMKrdQpk5h7NmQYWjFR8soJE4lG+Skeolw8SqsV739YzTRyHYHbQLmTWdn3dHgkVzYW4mhWLkMUjIZEMx8LwWCTdumXztRW6u5dmMeMeNcl/ga/XBpxvFHkUi2wGQwWRGZrksVgsE7QOefq0ayo+5bB9w+N98PffiSuv9bebrw61DQ9R17kqZLueHKmwP8bvZY94k4vYQF8cLDG88JTsH0MFkTlaqxmqp0CmY0frFIg5oeITFyTqAQ3VSTiUZcU0jhmayvYiIDqDi//6pFoUZu9DylMGiv6OoYLILHUoOr4Ig4WBcIvJxUuzQkWngkQf7iHnzF7EJe7B/m7EJR5AlrxrcLC7BYZEZNMYKojM1FS9F57qKZC523D9vXnTHzoFiT7cRNovYYjYHdq96J04U2bNNj8iop7HUEFkrubbOODtDMFxJnY9LDYrVBgr7mQJhgoi6ksYKojMVofCRPfWKZDZsedx3ORQYby4kyUYKoioL2GoILJAU9UeeDgLcJwXggh/E0NF54JE7zLw06T2ktndEKRjsPFS1y2oDBVE1JcwVBBZovkm9i12guDoimkzJpgUKj5dQSIiot7BUEFkkToUJCyAkyCBZMBYk0LFpypIRETUWxgqiCzUVLkb7s6CyaHikxQkIiLqRQwVRJb6cB2xXk4QTA4VRET2jaGCyGK1uBc/H4MYKoiIWjFUEFmh8UkUFsgYKoiI1BgqiKzx4ToSflyNBG7pJCJiqCAiIiJxMFQQERGRKBgqiIiISBQMFURERCQKhgoiIiISBUMFERERiYKhgoiIiETBUEFERESiYKggIiIiUTBUEBERkSgYKoiIiEgUDBVEREQkCoYKIiIiEgVDBREREYmCoYKIiIhEwVBBREREomCoICIiIlEwVBAREZEoGCqIiIhIFAwVREREJAqGCiIiIhIFQwURERGJoB7/D3UfE/kQYqnIAAAAAElFTkSuQmCC)"
      ]
    },
    {
      "cell_type": "code",
      "metadata": {
        "colab": {
          "base_uri": "https://localhost:8080/"
        },
        "id": "LqWYcMKq18-j",
        "outputId": "d67348aa-e673-48f0-f030-738e32893718"
      },
      "source": [
        "test_set[:10]"
      ],
      "execution_count": null,
      "outputs": [
        {
          "output_type": "execute_result",
          "data": {
            "text/plain": [
              "['<s> <s> wishful thinkers </s> </s>',\n",
              " '<s> <s> top court rules brazil can jail former leader </s> </s>',\n",
              " '<s> <s> do you watch hollywood awards ceremonies </s> </s>',\n",
              " '<s> <s> recovery plan </s> </s>',\n",
              " '<s> <s> lastsecond nature </s> </s>',\n",
              " '<s> <s> old house </s> </s>',\n",
              " '<s> <s> what would you like to learn to make by hand </s> </s>',\n",
              " '<s> <s> trump signals readiness for battle over trade </s> </s>',\n",
              " '<s> <s> teaching orwell and 1984 with the new york times </s> </s>',\n",
              " '<s> <s> why your hip may really be killing you </s> </s>']"
            ]
          },
          "metadata": {
            "tags": []
          },
          "execution_count": 64
        }
      ]
    },
    {
      "cell_type": "code",
      "metadata": {
        "id": "4oLHkC2M9bot"
      },
      "source": [
        "test_vocab = build_vocabulary(test_set)"
      ],
      "execution_count": null,
      "outputs": []
    },
    {
      "cell_type": "code",
      "metadata": {
        "id": "AQHk_NaHVKi0"
      },
      "source": [
        "def evaluate(test_set, model):\r\n",
        "  \"\"\"\r\n",
        "  Calculate the Perplexity of N-gram language model.\r\n",
        "  Return: float\r\n",
        "  \"\"\"\r\n",
        "  N = 0\r\n",
        "  for sent in test_set:\r\n",
        "    N += len(sent.split(' '))\r\n",
        "\r\n",
        "  PP = 1\r\n",
        "  for sent in test_set:\r\n",
        "    tokens = sent.split(' ')\r\n",
        "    for i in range(2, len(tokens)):\r\n",
        "      wn = tokens[i]\r\n",
        "      wn_1 = tokens[i-1]\r\n",
        "      wn_2 = tokens[i-2]\r\n",
        "\r\n",
        "      # Find in model\r\n",
        "      found = False\r\n",
        "      for key, value in model.items():\r\n",
        "        if (wn_2, wn_1, wn) == key:\r\n",
        "          p = value**(-1/N)\r\n",
        "          found = True\r\n",
        "          break\r\n",
        "      \r\n",
        "      # If not in model:\r\n",
        "      if found == False:\r\n",
        "        p = (1 / V)**(-1/N)\r\n",
        "\r\n",
        "      PP *= p\r\n",
        "\r\n",
        "  return PP"
      ],
      "execution_count": null,
      "outputs": []
    },
    {
      "cell_type": "code",
      "metadata": {
        "id": "YPx4twiB-LWU",
        "colab": {
          "base_uri": "https://localhost:8080/"
        },
        "outputId": "4f4e2160-903b-44a9-aad1-4bd868a96216"
      },
      "source": [
        "print(evaluate(test_set, trigram_model))"
      ],
      "execution_count": null,
      "outputs": [
        {
          "output_type": "stream",
          "text": [
            "1226.2934428673311\n"
          ],
          "name": "stdout"
        }
      ]
    },
    {
      "cell_type": "markdown",
      "metadata": {
        "id": "KhZhOUQDLbS0"
      },
      "source": [
        "---\r\n",
        "---\r\n",
        "##Train on Moby Dick novel \r\n",
        "*From [Gutenberg](https://www.gutenberg.org/)*"
      ]
    },
    {
      "cell_type": "code",
      "metadata": {
        "id": "ZiVCysvHLamO"
      },
      "source": [
        "with open('mobydick.txt', 'r', encoding='utf-8') as f:\r\n",
        "  dataset_md = f.read()\r\n",
        "f.close()"
      ],
      "execution_count": null,
      "outputs": []
    },
    {
      "cell_type": "code",
      "metadata": {
        "colab": {
          "base_uri": "https://localhost:8080/"
        },
        "id": "TdL166YeQnFt",
        "outputId": "dc3da76a-f563-475c-eacb-7c8d40590de4"
      },
      "source": [
        "import nltk\r\n",
        "nltk.download('punkt')\r\n",
        "tokenizer = nltk.data.load('tokenizers/punkt/english.pickle')"
      ],
      "execution_count": null,
      "outputs": [
        {
          "output_type": "stream",
          "text": [
            "[nltk_data] Downloading package punkt to /root/nltk_data...\n",
            "[nltk_data]   Unzipping tokenizers/punkt.zip.\n"
          ],
          "name": "stdout"
        }
      ]
    },
    {
      "cell_type": "code",
      "metadata": {
        "id": "h520CdHxNGFc"
      },
      "source": [
        "dataset_md = dataset_md.replace('\\n', ' ')\r\n",
        "dataset_md = tokenizer.tokenize(dataset_md)"
      ],
      "execution_count": null,
      "outputs": []
    },
    {
      "cell_type": "code",
      "metadata": {
        "colab": {
          "base_uri": "https://localhost:8080/"
        },
        "id": "94WyrZWHOY6F",
        "outputId": "1241476f-a0c3-418e-c1b8-957d49ea9e28"
      },
      "source": [
        "dataset_md[:10]"
      ],
      "execution_count": null,
      "outputs": [
        {
          "output_type": "execute_result",
          "data": {
            "text/plain": [
              "['\\ufeffCHAPTER 1.',\n",
              " 'Loomings.',\n",
              " 'Call me Ishmael.',\n",
              " 'Some years ago—never mind how long precisely—having little or no money in my purse, and nothing particular to interest me on shore, I thought I would sail about a little and see the watery part of the world.',\n",
              " 'It is a way I have of driving off the spleen and regulating the circulation.',\n",
              " 'Whenever I find myself growing grim about the mouth; whenever it is a damp, drizzly November in my soul; whenever I find myself involuntarily pausing before coffin warehouses, and bringing up the rear of every funeral I meet; and especially whenever my hypos get such an upper hand of me, that it requires a strong moral principle to prevent me from deliberately stepping into the street, and methodically knocking people’s hats off—then, I account it high time to get to sea as soon as I can.',\n",
              " 'This is my substitute for pistol and ball.',\n",
              " 'With a philosophical flourish Cato throws himself upon his sword; I quietly take to the ship.',\n",
              " 'There is nothing surprising in this.',\n",
              " 'If they but knew it, almost all men in their degree, some time or other, cherish very nearly the same feelings towards the ocean with me.']"
            ]
          },
          "metadata": {
            "tags": []
          },
          "execution_count": 48
        }
      ]
    },
    {
      "cell_type": "code",
      "metadata": {
        "colab": {
          "base_uri": "https://localhost:8080/"
        },
        "id": "hvS96nAeOnzp",
        "outputId": "01778740-738a-4f3e-92a0-472f33377735"
      },
      "source": [
        "dataset_md = preprocess(dataset_md)\r\n",
        "print(len(dataset_md))"
      ],
      "execution_count": null,
      "outputs": [
        {
          "output_type": "stream",
          "text": [
            "8606\n"
          ],
          "name": "stdout"
        }
      ]
    },
    {
      "cell_type": "code",
      "metadata": {
        "colab": {
          "base_uri": "https://localhost:8080/"
        },
        "id": "HR9g84asPBDT",
        "outputId": "41b3ba8d-a963-48b6-eab1-a975db779ed3"
      },
      "source": [
        "dataset_md[:10]"
      ],
      "execution_count": null,
      "outputs": [
        {
          "output_type": "execute_result",
          "data": {
            "text/plain": [
              "['<s> <s> chapter 1 </s> </s>',\n",
              " '<s> <s> loomings </s> </s>',\n",
              " '<s> <s> call me ishmael </s> </s>',\n",
              " '<s> <s> some years agonever mind how long preciselyhaving little or no money in my purse and nothing particular to interest me on shore i thought i would sail about a little and see the watery part of the world </s> </s>',\n",
              " '<s> <s> it is a way i have of driving off the spleen and regulating the circulation </s> </s>',\n",
              " '<s> <s> whenever i find myself growing grim about the mouth whenever it is a damp drizzly november in my soul whenever i find myself involuntarily pausing before coffin warehouses and bringing up the rear of every funeral i meet and especially whenever my hypos get such an upper hand of me that it requires a strong moral principle to prevent me from deliberately stepping into the street and methodically knocking peoples hats offthen i account it high time to get to sea as soon as i can </s> </s>',\n",
              " '<s> <s> this is my substitute for pistol and ball </s> </s>',\n",
              " '<s> <s> with a philosophical flourish cato throws himself upon his sword i quietly take to the ship </s> </s>',\n",
              " '<s> <s> there is nothing surprising in this </s> </s>',\n",
              " '<s> <s> if they but knew it almost all men in their degree some time or other cherish very nearly the same feelings towards the ocean with me </s> </s>']"
            ]
          },
          "metadata": {
            "tags": []
          },
          "execution_count": 50
        }
      ]
    },
    {
      "cell_type": "code",
      "metadata": {
        "id": "GBsvvLFAeaf4"
      },
      "source": [
        "# Train/Test = 9/1\r\n",
        "random.shuffle(dataset_md)\r\n",
        "split_point = int(len(dataset_md) * 0.9)\r\n",
        "training_set_md = dataset_md[:split_point]\r\n",
        "test_set_md = dataset_md[split_point:]"
      ],
      "execution_count": null,
      "outputs": []
    },
    {
      "cell_type": "code",
      "metadata": {
        "id": "7tZtEdsxPFwS"
      },
      "source": [
        "vocab_md = build_vocabulary(training_set_md)\r\n",
        "V_md = len(vocab_md)\r\n",
        "model_md = build_trigram_model(training_set_md)"
      ],
      "execution_count": null,
      "outputs": []
    },
    {
      "cell_type": "code",
      "metadata": {
        "colab": {
          "base_uri": "https://localhost:8080/"
        },
        "id": "BBhM08BsQ85g",
        "outputId": "c2d30a8f-b5dc-462b-9c7b-32426f96bd4a"
      },
      "source": [
        "print(generate('i love', model_md, 10))"
      ],
      "execution_count": null,
      "outputs": [
        {
          "output_type": "stream",
          "text": [
            "('i love to sail with such a whale', 7.766069161662909e-21)\n"
          ],
          "name": "stdout"
        }
      ]
    },
    {
      "cell_type": "code",
      "metadata": {
        "id": "7ael6MqlYFte"
      },
      "source": [
        "# Save model\r\n",
        "with open('model-md.txt', 'w') as f:\r\n",
        "  for key, value in model_md.items():\r\n",
        "    f.write(\"{}: {}\\n\".format(str(key), str(value)))"
      ],
      "execution_count": null,
      "outputs": []
    },
    {
      "cell_type": "code",
      "metadata": {
        "colab": {
          "base_uri": "https://localhost:8080/"
        },
        "id": "Vuyyy_evsyrm",
        "outputId": "8611fadc-a8c9-49fd-cafc-e5451212aa59"
      },
      "source": [
        "V = V_md\r\n",
        "print(evaluate(test_set_md, model_md))"
      ],
      "execution_count": null,
      "outputs": [
        {
          "output_type": "stream",
          "text": [
            "5234.8627281729305\n"
          ],
          "name": "stdout"
        }
      ]
    }
  ]
}